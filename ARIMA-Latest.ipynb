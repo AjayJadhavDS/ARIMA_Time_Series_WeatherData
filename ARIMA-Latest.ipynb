{
 "cells": [
  {
   "cell_type": "code",
   "execution_count": 105,
   "metadata": {},
   "outputs": [],
   "source": [
    "import pandas as pd\n",
    "\n",
    "df = pd.read_excel(\"C:/Users/ajjadhav/Downloads/2015-2019 DATASET.xlsx\")"
   ]
  },
  {
   "cell_type": "code",
   "execution_count": 106,
   "metadata": {},
   "outputs": [],
   "source": [
    "ColumnToPredict = 'CO'"
   ]
  },
  {
   "cell_type": "code",
   "execution_count": 107,
   "metadata": {},
   "outputs": [
    {
     "data": {
      "text/html": [
       "<div>\n",
       "<style scoped>\n",
       "    .dataframe tbody tr th:only-of-type {\n",
       "        vertical-align: middle;\n",
       "    }\n",
       "\n",
       "    .dataframe tbody tr th {\n",
       "        vertical-align: top;\n",
       "    }\n",
       "\n",
       "    .dataframe thead th {\n",
       "        text-align: right;\n",
       "    }\n",
       "</style>\n",
       "<table border=\"1\" class=\"dataframe\">\n",
       "  <thead>\n",
       "    <tr style=\"text-align: right;\">\n",
       "      <th></th>\n",
       "      <th>date</th>\n",
       "      <th>CO</th>\n",
       "      <th>O3</th>\n",
       "      <th>NO</th>\n",
       "      <th>NO2</th>\n",
       "      <th>NOX</th>\n",
       "      <th>NH3</th>\n",
       "      <th>SO2</th>\n",
       "      <th>PM2.5</th>\n",
       "      <th>PM10</th>\n",
       "    </tr>\n",
       "  </thead>\n",
       "  <tbody>\n",
       "    <tr>\n",
       "      <th>0</th>\n",
       "      <td>2015-04-01</td>\n",
       "      <td>0.9</td>\n",
       "      <td>14.1</td>\n",
       "      <td>3.7</td>\n",
       "      <td>44.2</td>\n",
       "      <td>48</td>\n",
       "      <td>10.2</td>\n",
       "      <td>7.6</td>\n",
       "      <td>29</td>\n",
       "      <td>50.0</td>\n",
       "    </tr>\n",
       "    <tr>\n",
       "      <th>1</th>\n",
       "      <td>2015-04-02</td>\n",
       "      <td>0.56</td>\n",
       "      <td>9.8</td>\n",
       "      <td>3.8</td>\n",
       "      <td>40.1</td>\n",
       "      <td>44</td>\n",
       "      <td>10.8</td>\n",
       "      <td>8.5</td>\n",
       "      <td>20</td>\n",
       "      <td>37.0</td>\n",
       "    </tr>\n",
       "    <tr>\n",
       "      <th>2</th>\n",
       "      <td>2105-04-03</td>\n",
       "      <td>1.06</td>\n",
       "      <td>15.3</td>\n",
       "      <td>3.5</td>\n",
       "      <td>40</td>\n",
       "      <td>43.5</td>\n",
       "      <td>11.6</td>\n",
       "      <td>3.6</td>\n",
       "      <td>20</td>\n",
       "      <td>37.0</td>\n",
       "    </tr>\n",
       "    <tr>\n",
       "      <th>3</th>\n",
       "      <td>2015-04-04</td>\n",
       "      <td>0.94</td>\n",
       "      <td>18.7</td>\n",
       "      <td>2.9</td>\n",
       "      <td>43.1</td>\n",
       "      <td>46</td>\n",
       "      <td>9.7</td>\n",
       "      <td>3.5</td>\n",
       "      <td>32</td>\n",
       "      <td>58.0</td>\n",
       "    </tr>\n",
       "    <tr>\n",
       "      <th>4</th>\n",
       "      <td>2015-04-05</td>\n",
       "      <td>0.92</td>\n",
       "      <td>18</td>\n",
       "      <td>2.7</td>\n",
       "      <td>41.3</td>\n",
       "      <td>44</td>\n",
       "      <td>9.8</td>\n",
       "      <td>4.4</td>\n",
       "      <td>36</td>\n",
       "      <td>61.0</td>\n",
       "    </tr>\n",
       "  </tbody>\n",
       "</table>\n",
       "</div>"
      ],
      "text/plain": [
       "        date    CO    O3   NO   NO2   NOX   NH3  SO2 PM2.5  PM10\n",
       "0 2015-04-01   0.9  14.1  3.7  44.2    48  10.2  7.6    29  50.0\n",
       "1 2015-04-02  0.56   9.8  3.8  40.1    44  10.8  8.5    20  37.0\n",
       "2 2105-04-03  1.06  15.3  3.5    40  43.5  11.6  3.6    20  37.0\n",
       "3 2015-04-04  0.94  18.7  2.9  43.1    46   9.7  3.5    32  58.0\n",
       "4 2015-04-05  0.92    18  2.7  41.3    44   9.8  4.4    36  61.0"
      ]
     },
     "execution_count": 107,
     "metadata": {},
     "output_type": "execute_result"
    }
   ],
   "source": [
    "df.head()"
   ]
  },
  {
   "cell_type": "code",
   "execution_count": 108,
   "metadata": {},
   "outputs": [
    {
     "data": {
      "text/plain": [
       "(2050, 10)"
      ]
     },
     "execution_count": 108,
     "metadata": {},
     "output_type": "execute_result"
    }
   ],
   "source": [
    "df.shape"
   ]
  },
  {
   "cell_type": "code",
   "execution_count": 109,
   "metadata": {},
   "outputs": [],
   "source": [
    "from matplotlib import pyplot\n",
    "from pandas.plotting import autocorrelation_plot"
   ]
  },
  {
   "cell_type": "code",
   "execution_count": 110,
   "metadata": {},
   "outputs": [],
   "source": [
    "df.dropna(subset=[ColumnToPredict], inplace=True)"
   ]
  },
  {
   "cell_type": "code",
   "execution_count": 111,
   "metadata": {},
   "outputs": [
    {
     "data": {
      "text/plain": [
       "(1940, 10)"
      ]
     },
     "execution_count": 111,
     "metadata": {},
     "output_type": "execute_result"
    }
   ],
   "source": [
    "df.shape"
   ]
  },
  {
   "cell_type": "code",
   "execution_count": 112,
   "metadata": {},
   "outputs": [],
   "source": [
    "df.date = pd.to_datetime(df.date)"
   ]
  },
  {
   "cell_type": "code",
   "execution_count": 113,
   "metadata": {},
   "outputs": [
    {
     "data": {
      "text/plain": [
       "date     0\n",
       "CO       0\n",
       "O3       0\n",
       "NO       0\n",
       "NO2      0\n",
       "NOX      0\n",
       "NH3      0\n",
       "SO2      0\n",
       "PM2.5    3\n",
       "PM10     6\n",
       "dtype: int64"
      ]
     },
     "execution_count": 113,
     "metadata": {},
     "output_type": "execute_result"
    }
   ],
   "source": [
    "df.isna().sum()"
   ]
  },
  {
   "cell_type": "code",
   "execution_count": 114,
   "metadata": {},
   "outputs": [],
   "source": [
    "df[ColumnToPredict] = df[ColumnToPredict].apply(lambda x: str(x).replace(u'\\xa0',' ') )\n"
   ]
  },
  {
   "cell_type": "code",
   "execution_count": 115,
   "metadata": {},
   "outputs": [
    {
     "data": {
      "text/plain": [
       "(1940, 10)"
      ]
     },
     "execution_count": 115,
     "metadata": {},
     "output_type": "execute_result"
    }
   ],
   "source": [
    "df.shape"
   ]
  },
  {
   "cell_type": "code",
   "execution_count": 116,
   "metadata": {},
   "outputs": [],
   "source": [
    "df[ColumnToPredict] = pd.to_numeric(df[ColumnToPredict])"
   ]
  },
  {
   "cell_type": "code",
   "execution_count": 117,
   "metadata": {},
   "outputs": [
    {
     "data": {
      "text/plain": [
       "<matplotlib.axes._subplots.AxesSubplot at 0x21c3c1ac760>"
      ]
     },
     "execution_count": 117,
     "metadata": {},
     "output_type": "execute_result"
    },
    {
     "data": {
      "image/png": "[encoded data removed]",
      "text/plain": [
       "<Figure size 432x288 with 1 Axes>"
      ]
     },
     "metadata": {
      "needs_background": "light"
     },
     "output_type": "display_data"
    }
   ],
   "source": [
    "df[ColumnToPredict].plot(kind='box')"
   ]
  },
  {
   "cell_type": "code",
   "execution_count": 118,
   "metadata": {},
   "outputs": [],
   "source": [
    "df = df[df[ColumnToPredict] < 2]"
   ]
  },
  {
   "cell_type": "code",
   "execution_count": 119,
   "metadata": {},
   "outputs": [
    {
     "data": {
      "text/plain": [
       "<matplotlib.axes._subplots.AxesSubplot at 0x21c3c1fee20>"
      ]
     },
     "execution_count": 119,
     "metadata": {},
     "output_type": "execute_result"
    },
    {
     "data": {
      "image/png": "[encoded data removed]",
      "text/plain": [
       "<Figure size 432x288 with 1 Axes>"
      ]
     },
     "metadata": {
      "needs_background": "light"
     },
     "output_type": "display_data"
    }
   ],
   "source": [
    "autocorrelation_plot(df['CO'])\n",
    "#pyplot.show()"
   ]
  },
  {
   "cell_type": "code",
   "execution_count": 120,
   "metadata": {},
   "outputs": [
    {
     "name": "stderr",
     "output_type": "stream",
     "text": [
      "C:\\Users\\ajjadhav\\Anaconda3\\lib\\site-packages\\statsmodels\\tsa\\base\\tsa_model.py:213: ValueWarning: An unsupported index was provided and will be ignored when e.g. forecasting.\n",
      "  warnings.warn('An unsupported index was provided and will be'\n",
      "C:\\Users\\ajjadhav\\Anaconda3\\lib\\site-packages\\statsmodels\\tsa\\base\\tsa_model.py:213: ValueWarning: An unsupported index was provided and will be ignored when e.g. forecasting.\n",
      "  warnings.warn('An unsupported index was provided and will be'\n",
      "C:\\Users\\ajjadhav\\Anaconda3\\lib\\site-packages\\statsmodels\\tsa\\base\\tsa_model.py:213: ValueWarning: An unsupported index was provided and will be ignored when e.g. forecasting.\n",
      "  warnings.warn('An unsupported index was provided and will be'\n"
     ]
    },
    {
     "name": "stdout",
     "output_type": "stream",
     "text": [
      "                               SARIMAX Results                                \n",
      "==============================================================================\n",
      "Dep. Variable:                     CO   No. Observations:                 1885\n",
      "Model:                 ARIMA(5, 1, 0)   Log Likelihood                 637.834\n",
      "Date:                Tue, 04 May 2021   AIC                          -1263.668\n",
      "Time:                        17:01:31   BIC                          -1230.421\n",
      "Sample:                             0   HQIC                         -1251.424\n",
      "                               - 1885                                         \n",
      "Covariance Type:                  opg                                         \n",
      "==============================================================================\n",
      "                 coef    std err          z      P>|z|      [0.025      0.975]\n",
      "------------------------------------------------------------------------------\n",
      "ar.L1         -0.4904      0.013    -39.195      0.000      -0.515      -0.466\n",
      "ar.L2         -0.3295      0.016    -20.630      0.000      -0.361      -0.298\n",
      "ar.L3         -0.2330      0.018    -12.823      0.000      -0.269      -0.197\n",
      "ar.L4         -0.1518      0.017     -8.794      0.000      -0.186      -0.118\n",
      "ar.L5         -0.0318      0.013     -2.452      0.014      -0.057      -0.006\n",
      "sigma2         0.0297      0.000     61.841      0.000       0.029       0.031\n",
      "===================================================================================\n",
      "Ljung-Box (Q):                       71.47   Jarque-Bera (JB):              3996.89\n",
      "Prob(Q):                              0.00   Prob(JB):                         0.00\n",
      "Heteroskedasticity (H):               0.68   Skew:                            -0.46\n",
      "Prob(H) (two-sided):                  0.00   Kurtosis:                        10.08\n",
      "===================================================================================\n",
      "\n",
      "Warnings:\n",
      "[1] Covariance matrix calculated using the outer product of gradients (complex-step).\n"
     ]
    }
   ],
   "source": [
    "from statsmodels.tsa.arima.model import ARIMA\n",
    "\n",
    "model = ARIMA(df[ColumnToPredict], order=(5,1,0))\n",
    "model_fit = model.fit()\n",
    "# summary of fit model\n",
    "print(model_fit.summary())"
   ]
  },
  {
   "cell_type": "code",
   "execution_count": 121,
   "metadata": {},
   "outputs": [],
   "source": [
    "X = df[ColumnToPredict].values\n",
    "size = int(len(X) * 0.92)\n",
    "train, test = X[0:size], X[size:len(X)]"
   ]
  },
  {
   "cell_type": "code",
   "execution_count": 122,
   "metadata": {},
   "outputs": [
    {
     "name": "stderr",
     "output_type": "stream",
     "text": [
      "<ipython-input-122-3f70653d2a83>:1: UserWarning: Pandas doesn't allow columns to be created via a new attribute name - see https://pandas.pydata.org/pandas-docs/stable/indexing.html#attribute-access\n",
      "  df.Year = df.date.dt.year\n"
     ]
    }
   ],
   "source": [
    "df.Year = df.date.dt.year"
   ]
  },
  {
   "cell_type": "code",
   "execution_count": 123,
   "metadata": {},
   "outputs": [],
   "source": [
    "test_ = df[df.Year==2020]\n",
    "train_ = df[df.Year!=2020]\n",
    "\n",
    "test = test_[ColumnToPredict].values\n",
    "train = train_[ColumnToPredict].values"
   ]
  },
  {
   "cell_type": "code",
   "execution_count": 124,
   "metadata": {},
   "outputs": [
    {
     "data": {
      "text/plain": [
       "(1587,)"
      ]
     },
     "execution_count": 124,
     "metadata": {},
     "output_type": "execute_result"
    }
   ],
   "source": [
    "train.shape"
   ]
  },
  {
   "cell_type": "code",
   "execution_count": 125,
   "metadata": {},
   "outputs": [
    {
     "data": {
      "text/plain": [
       "(298,)"
      ]
     },
     "execution_count": 125,
     "metadata": {},
     "output_type": "execute_result"
    }
   ],
   "source": [
    "test.shape"
   ]
  },
  {
   "cell_type": "code",
   "execution_count": 126,
   "metadata": {},
   "outputs": [
    {
     "name": "stdout",
     "output_type": "stream",
     "text": [
      "predicted=1.730155, expected=1.530000\n",
      "predicted=1.642066, expected=1.070000\n",
      "predicted=1.385004, expected=0.830000\n",
      "predicted=1.170342, expected=1.040000\n",
      "predicted=1.153529, expected=0.950000\n",
      "predicted=1.052902, expected=1.270000\n",
      "predicted=1.142803, expected=1.230000\n",
      "predicted=1.138250, expected=0.920000\n",
      "predicted=1.018741, expected=1.110000\n",
      "predicted=1.084034, expected=1.220000\n",
      "predicted=1.169973, expected=1.110000\n",
      "predicted=1.131008, expected=0.860000\n",
      "predicted=0.976794, expected=1.090000\n",
      "predicted=1.064295, expected=1.010000\n",
      "predicted=1.043878, expected=1.180000\n",
      "predicted=1.109471, expected=1.080000\n",
      "predicted=1.063770, expected=1.020000\n",
      "predicted=1.048362, expected=0.980000\n",
      "predicted=1.020991, expected=1.070000\n",
      "predicted=1.062902, expected=1.260000\n",
      "predicted=1.156418, expected=1.150000\n",
      "predicted=1.126267, expected=1.090000\n",
      "predicted=1.099590, expected=1.180000\n",
      "predicted=1.150034, expected=1.170000\n",
      "predicted=1.169221, expected=1.130000\n",
      "predicted=1.144559, expected=0.960000\n",
      "predicted=1.049032, expected=0.970000\n",
      "predicted=1.031499, expected=1.070000\n",
      "predicted=1.063856, expected=1.270000\n",
      "predicted=1.160986, expected=1.170000\n",
      "predicted=1.131106, expected=1.190000\n",
      "predicted=1.150664, expected=1.000000\n",
      "predicted=1.077900, expected=0.930000\n",
      "predicted=1.034045, expected=1.130000\n",
      "predicted=1.100343, expected=0.990000\n",
      "predicted=1.036680, expected=1.100000\n",
      "predicted=1.062033, expected=0.970000\n",
      "predicted=1.002177, expected=1.030000\n",
      "predicted=1.033348, expected=1.100000\n",
      "predicted=1.063295, expected=1.160000\n",
      "predicted=1.108179, expected=1.320000\n",
      "predicted=1.197788, expected=1.140000\n",
      "predicted=1.147740, expected=1.200000\n",
      "predicted=1.181758, expected=1.410000\n",
      "predicted=1.301514, expected=1.390000\n",
      "predicted=1.336387, expected=1.540000\n",
      "predicted=1.418218, expected=1.370000\n",
      "predicted=1.374090, expected=1.500000\n",
      "predicted=1.454209, expected=1.280000\n",
      "predicted=1.363616, expected=1.090000\n",
      "predicted=1.249971, expected=1.350000\n",
      "predicted=1.323246, expected=1.260000\n",
      "predicted=1.291405, expected=1.760000\n",
      "predicted=1.515188, expected=1.270000\n",
      "predicted=1.331540, expected=1.620000\n",
      "predicted=1.496123, expected=1.590000\n",
      "predicted=1.529672, expected=1.710000\n",
      "predicted=1.636126, expected=1.840000\n",
      "predicted=1.701413, expected=1.800000\n",
      "predicted=1.742311, expected=1.830000\n",
      "predicted=1.780010, expected=1.010000\n",
      "predicted=1.396834, expected=1.080000\n",
      "predicted=1.316190, expected=0.910000\n",
      "predicted=1.162153, expected=0.910000\n",
      "predicted=1.072009, expected=1.080000\n",
      "predicted=1.047146, expected=1.030000\n",
      "predicted=1.022867, expected=1.020000\n",
      "predicted=1.006237, expected=0.970000\n",
      "predicted=0.983871, expected=0.910000\n",
      "predicted=0.961240, expected=0.840000\n",
      "predicted=0.908474, expected=1.000000\n",
      "predicted=0.965907, expected=1.010000\n",
      "predicted=0.979508, expected=0.900000\n",
      "predicted=0.925819, expected=0.920000\n",
      "predicted=0.921496, expected=0.960000\n",
      "predicted=0.953576, expected=0.840000\n",
      "predicted=0.897674, expected=0.770000\n",
      "predicted=0.834313, expected=0.830000\n",
      "predicted=0.844685, expected=0.750000\n",
      "predicted=0.803000, expected=0.750000\n",
      "predicted=0.775974, expected=0.730000\n",
      "predicted=0.751239, expected=0.780000\n",
      "predicted=0.772367, expected=0.770000\n",
      "predicted=0.765373, expected=0.730000\n",
      "predicted=0.744345, expected=0.780000\n",
      "predicted=0.763810, expected=0.720000\n",
      "predicted=0.742625, expected=0.740000\n",
      "predicted=0.744444, expected=0.740000\n",
      "predicted=0.740935, expected=0.740000\n",
      "predicted=0.743048, expected=0.730000\n",
      "predicted=0.733515, expected=0.350000\n",
      "predicted=0.539587, expected=0.350000\n",
      "predicted=0.476117, expected=0.650000\n",
      "predicted=0.592466, expected=0.690000\n",
      "predicted=0.629727, expected=0.730000\n",
      "predicted=0.637625, expected=0.750000\n",
      "predicted=0.672386, expected=0.730000\n",
      "predicted=0.709750, expected=0.740000\n",
      "predicted=0.729866, expected=0.780000\n",
      "predicted=0.757673, expected=0.730000\n",
      "predicted=0.741603, expected=0.670000\n",
      "predicted=0.705480, expected=0.730000\n",
      "predicted=0.725479, expected=0.730000\n",
      "predicted=0.730788, expected=0.740000\n",
      "predicted=0.731587, expected=0.630000\n",
      "predicted=0.673220, expected=0.780000\n",
      "predicted=0.738432, expected=0.750000\n",
      "predicted=0.739743, expected=0.720000\n",
      "predicted=0.726004, expected=0.710000\n",
      "predicted=0.712040, expected=0.750000\n",
      "predicted=0.741068, expected=0.710000\n",
      "predicted=0.724202, expected=0.680000\n",
      "predicted=0.700812, expected=0.740000\n",
      "predicted=0.723913, expected=0.720000\n",
      "predicted=0.722104, expected=0.740000\n",
      "predicted=0.728409, expected=0.800000\n",
      "predicted=0.760468, expected=0.730000\n",
      "predicted=0.741459, expected=0.710000\n",
      "predicted=0.726285, expected=0.720000\n",
      "predicted=0.728289, expected=0.750000\n",
      "predicted=0.745578, expected=0.800000\n",
      "predicted=0.768283, expected=0.870000\n",
      "predicted=0.811429, expected=0.850000\n",
      "predicted=0.820542, expected=0.820000\n",
      "predicted=0.816633, expected=0.890000\n",
      "predicted=0.858219, expected=0.740000\n",
      "predicted=0.798736, expected=0.800000\n",
      "predicted=0.808408, expected=0.860000\n",
      "predicted=0.836040, expected=0.830000\n",
      "predicted=0.831899, expected=0.780000\n",
      "predicted=0.795471, expected=0.710000\n",
      "predicted=0.756923, expected=0.790000\n",
      "predicted=0.788147, expected=0.740000\n",
      "predicted=0.762976, expected=0.740000\n",
      "predicted=0.749691, expected=0.740000\n",
      "predicted=0.741450, expected=0.790000\n",
      "predicted=0.770838, expected=0.730000\n",
      "predicted=0.744448, expected=0.750000\n",
      "predicted=0.748196, expected=0.740000\n",
      "predicted=0.744757, expected=0.650000\n",
      "predicted=0.700429, expected=0.820000\n",
      "predicted=0.766974, expected=0.810000\n",
      "predicted=0.781180, expected=0.840000\n",
      "predicted=0.802957, expected=0.780000\n",
      "predicted=0.778757, expected=0.920000\n",
      "predicted=0.860826, expected=0.870000\n",
      "predicted=0.858472, expected=0.660000\n",
      "predicted=0.755079, expected=0.760000\n",
      "predicted=0.771801, expected=0.470000\n",
      "predicted=0.631990, expected=0.340000\n",
      "predicted=0.507752, expected=1.000000\n",
      "predicted=0.776518, expected=1.030000\n",
      "predicted=0.869766, expected=1.010000\n",
      "predicted=0.884894, expected=0.450000\n",
      "predicted=0.625151, expected=0.720000\n",
      "predicted=0.753881, expected=0.490000\n",
      "predicted=0.649530, expected=0.690000\n",
      "predicted=0.690418, expected=0.750000\n",
      "predicted=0.685409, expected=0.750000\n",
      "predicted=0.709620, expected=0.770000\n",
      "predicted=0.722149, expected=0.550000\n",
      "predicted=0.635727, expected=0.850000\n",
      "predicted=0.768215, expected=0.750000\n",
      "predicted=0.749924, expected=0.800000\n",
      "predicted=0.770291, expected=0.690000\n",
      "predicted=0.711732, expected=0.710000\n",
      "predicted=0.730629, expected=0.720000\n",
      "predicted=0.730120, expected=0.550000\n",
      "predicted=0.641094, expected=0.740000\n",
      "predicted=0.700240, expected=0.800000\n",
      "predicted=0.746440, expected=0.780000\n",
      "predicted=0.750891, expected=0.770000\n",
      "predicted=0.742828, expected=0.660000\n",
      "predicted=0.706968, expected=0.690000\n",
      "predicted=0.715065, expected=0.670000\n",
      "predicted=0.698432, expected=0.760000\n",
      "predicted=0.732612, expected=0.580000\n",
      "predicted=0.642471, expected=0.700000\n",
      "predicted=0.680771, expected=0.750000\n",
      "predicted=0.715564, expected=0.680000\n",
      "predicted=0.694601, expected=0.680000\n",
      "predicted=0.677928, expected=0.590000\n",
      "predicted=0.639548, expected=0.650000\n",
      "predicted=0.659444, expected=0.500000\n",
      "predicted=0.577750, expected=0.530000\n",
      "predicted=0.564180, expected=0.610000\n",
      "predicted=0.590014, expected=0.610000\n",
      "predicted=0.598060, expected=0.630000\n",
      "predicted=0.600974, expected=0.560000\n",
      "predicted=0.574495, expected=0.660000\n",
      "predicted=0.626579, expected=0.670000\n",
      "predicted=0.645831, expected=0.720000\n",
      "predicted=0.678517, expected=0.640000\n",
      "predicted=0.647124, expected=0.560000\n",
      "predicted=0.609099, expected=0.600000\n",
      "predicted=0.617637, expected=0.600000\n",
      "predicted=0.616911, expected=0.670000\n",
      "predicted=0.640893, expected=0.620000\n",
      "predicted=0.617798, expected=0.660000\n",
      "predicted=0.638798, expected=0.610000\n",
      "predicted=0.622513, expected=0.690000\n",
      "predicted=0.663154, expected=0.620000\n",
      "predicted=0.635420, expected=0.630000\n",
      "predicted=0.635508, expected=0.650000\n",
      "predicted=0.642678, expected=0.730000\n",
      "predicted=0.690131, expected=0.620000\n",
      "predicted=0.643652, expected=0.800000\n",
      "predicted=0.724947, expected=0.610000\n",
      "predicted=0.657749, expected=0.610000\n",
      "predicted=0.644013, expected=0.610000\n",
      "predicted=0.630838, expected=0.660000\n",
      "predicted=0.659404, expected=0.710000\n",
      "predicted=0.674800, expected=0.700000\n",
      "predicted=0.676525, expected=0.730000\n",
      "predicted=0.698743, expected=0.660000\n",
      "predicted=0.677680, expected=0.700000\n"
     ]
    },
    {
     "name": "stdout",
     "output_type": "stream",
     "text": [
      "predicted=0.696117, expected=0.610000\n",
      "predicted=0.653599, expected=0.800000\n",
      "predicted=0.736318, expected=0.750000\n",
      "predicted=0.729744, expected=0.740000\n",
      "predicted=0.728595, expected=0.750000\n",
      "predicted=0.733493, expected=0.670000\n",
      "predicted=0.710464, expected=0.800000\n",
      "predicted=0.762894, expected=0.770000\n",
      "predicted=0.760013, expected=0.870000\n",
      "predicted=0.811572, expected=0.840000\n",
      "predicted=0.811315, expected=0.870000\n",
      "predicted=0.841782, expected=0.930000\n",
      "predicted=0.883109, expected=0.890000\n",
      "predicted=0.884475, expected=0.830000\n",
      "predicted=0.854558, expected=0.870000\n",
      "predicted=0.869283, expected=0.870000\n",
      "predicted=0.875644, expected=0.910000\n",
      "predicted=0.891288, expected=0.970000\n",
      "predicted=0.922916, expected=0.990000\n",
      "predicted=0.949669, expected=0.860000\n",
      "predicted=0.896870, expected=0.930000\n",
      "predicted=0.922783, expected=0.910000\n",
      "predicted=0.923062, expected=0.910000\n",
      "predicted=0.919461, expected=1.060000\n",
      "predicted=0.983939, expected=0.860000\n",
      "predicted=0.910361, expected=0.930000\n",
      "predicted=0.925814, expected=1.050000\n",
      "predicted=0.992245, expected=1.110000\n",
      "predicted=1.050887, expected=1.090000\n",
      "predicted=1.046595, expected=1.110000\n",
      "predicted=1.071481, expected=1.120000\n",
      "predicted=1.100283, expected=1.040000\n",
      "predicted=1.072634, expected=1.040000\n",
      "predicted=1.061351, expected=1.080000\n",
      "predicted=1.077255, expected=1.180000\n",
      "predicted=1.129782, expected=1.240000\n",
      "predicted=1.170530, expected=1.230000\n",
      "predicted=1.185084, expected=1.310000\n",
      "predicted=1.242766, expected=1.280000\n",
      "predicted=1.258560, expected=1.210000\n",
      "predicted=1.234896, expected=1.360000\n",
      "predicted=1.304097, expected=1.320000\n",
      "predicted=1.309481, expected=1.340000\n",
      "predicted=1.319279, expected=1.350000\n",
      "predicted=1.326845, expected=1.330000\n",
      "predicted=1.333457, expected=1.400000\n",
      "predicted=1.367809, expected=1.310000\n",
      "predicted=1.333987, expected=1.310000\n",
      "predicted=1.325593, expected=1.230000\n",
      "predicted=1.280555, expected=1.360000\n",
      "predicted=1.334081, expected=1.530000\n",
      "predicted=1.425578, expected=1.340000\n",
      "predicted=1.359222, expected=0.910000\n",
      "predicted=1.125310, expected=1.210000\n",
      "predicted=1.219261, expected=1.260000\n",
      "predicted=1.264162, expected=0.650000\n",
      "predicted=0.934709, expected=1.050000\n",
      "predicted=1.010209, expected=1.180000\n",
      "predicted=1.109385, expected=1.210000\n",
      "predicted=1.149285, expected=1.270000\n",
      "predicted=1.157433, expected=1.350000\n",
      "predicted=1.250309, expected=1.480000\n",
      "predicted=1.366933, expected=1.450000\n",
      "predicted=1.393065, expected=1.460000\n",
      "predicted=1.420632, expected=1.220000\n",
      "predicted=1.319442, expected=1.250000\n",
      "predicted=1.312646, expected=1.250000\n",
      "predicted=1.295797, expected=1.320000\n",
      "predicted=1.314793, expected=1.530000\n",
      "predicted=1.406805, expected=1.570000\n",
      "predicted=1.463728, expected=1.400000\n",
      "predicted=1.410127, expected=1.680000\n",
      "predicted=1.554897, expected=1.630000\n",
      "predicted=1.589192, expected=1.580000\n",
      "predicted=1.580226, expected=1.530000\n",
      "predicted=1.545555, expected=1.540000\n",
      "predicted=1.561903, expected=1.540000\n",
      "predicted=1.557593, expected=1.430000\n",
      "predicted=1.490820, expected=1.650000\n",
      "predicted=1.578322, expected=1.300000\n",
      "predicted=1.425026, expected=1.160000\n",
      "predicted=1.309464, expected=1.300000\n"
     ]
    }
   ],
   "source": [
    "history = [x for x in train]\n",
    "predictions = list()\n",
    "# walk-forward validation\n",
    "for t in range(len(test)):\n",
    "\tmodel = ARIMA(history, order=(5,1,0))\n",
    "\tmodel_fit = model.fit()\n",
    "\toutput = model_fit.forecast()\n",
    "\tyhat = output[0]\n",
    "\tpredictions.append(yhat)\n",
    "\tobs = test[t]\n",
    "\thistory.append(obs)\n",
    "\tprint('predicted=%f, expected=%f' % (yhat, obs))\n",
    "# evaluate forecasts\n"
   ]
  },
  {
   "cell_type": "code",
   "execution_count": 128,
   "metadata": {},
   "outputs": [
    {
     "name": "stdout",
     "output_type": "stream",
     "text": [
      "Test RMSE: 0.142\n"
     ]
    },
    {
     "data": {
      "image/png": "[encoded data removed]",
      "text/plain": [
       "<Figure size 432x288 with 1 Axes>"
      ]
     },
     "metadata": {
      "needs_background": "light"
     },
     "output_type": "display_data"
    }
   ],
   "source": [
    "from math import sqrt\n",
    "from sklearn.metrics import mean_squared_error\n",
    "\n",
    "rmse = sqrt(mean_squared_error(test, predictions))\n",
    "print('Test RMSE: %.3f' % rmse)\n",
    "# plot forecasts against actual outcomes\n",
    "pyplot.plot(test)\n",
    "pyplot.plot(predictions, color='red')\n",
    "\n",
    "pyplot.xlabel(\"DateTime\")\n",
    "pyplot.ylabel(ColumnToPredict)\n",
    "\n",
    "pyplot.show()"
   ]
  },
  {
   "cell_type": "code",
   "execution_count": 129,
   "metadata": {},
   "outputs": [],
   "source": [
    "TR = train_[['date',ColumnToPredict]]"
   ]
  },
  {
   "cell_type": "code",
   "execution_count": 130,
   "metadata": {},
   "outputs": [],
   "source": [
    "PRED = test_[['date']]"
   ]
  },
  {
   "cell_type": "code",
   "execution_count": 131,
   "metadata": {},
   "outputs": [
    {
     "data": {
      "text/plain": [
       "1885"
      ]
     },
     "execution_count": 131,
     "metadata": {},
     "output_type": "execute_result"
    }
   ],
   "source": [
    "len(history)"
   ]
  },
  {
   "cell_type": "code",
   "execution_count": 132,
   "metadata": {},
   "outputs": [
    {
     "data": {
      "text/plain": [
       "298"
      ]
     },
     "execution_count": 132,
     "metadata": {},
     "output_type": "execute_result"
    }
   ],
   "source": [
    "len(predictions)"
   ]
  },
  {
   "cell_type": "code",
   "execution_count": 133,
   "metadata": {},
   "outputs": [
    {
     "name": "stderr",
     "output_type": "stream",
     "text": [
      "<ipython-input-133-ca88f00a75eb>:1: SettingWithCopyWarning: \n",
      "A value is trying to be set on a copy of a slice from a DataFrame.\n",
      "Try using .loc[row_indexer,col_indexer] = value instead\n",
      "\n",
      "See the caveats in the documentation: https://pandas.pydata.org/pandas-docs/stable/user_guide/indexing.html#returning-a-view-versus-a-copy\n",
      "  PRED['Forecast'] = predictions\n"
     ]
    }
   ],
   "source": [
    "PRED['Forecast'] = predictions"
   ]
  },
  {
   "cell_type": "code",
   "execution_count": 134,
   "metadata": {},
   "outputs": [],
   "source": [
    "OP = pd.concat([TR,PRED],axis=0)"
   ]
  },
  {
   "cell_type": "code",
   "execution_count": 135,
   "metadata": {},
   "outputs": [],
   "source": [
    "OP.set_index('date', inplace=True)\n"
   ]
  },
  {
   "cell_type": "code",
   "execution_count": 136,
   "metadata": {},
   "outputs": [
    {
     "data": {
      "text/html": [
       "<div>\n",
       "<style scoped>\n",
       "    .dataframe tbody tr th:only-of-type {\n",
       "        vertical-align: middle;\n",
       "    }\n",
       "\n",
       "    .dataframe tbody tr th {\n",
       "        vertical-align: top;\n",
       "    }\n",
       "\n",
       "    .dataframe thead th {\n",
       "        text-align: right;\n",
       "    }\n",
       "</style>\n",
       "<table border=\"1\" class=\"dataframe\">\n",
       "  <thead>\n",
       "    <tr style=\"text-align: right;\">\n",
       "      <th></th>\n",
       "      <th>CO</th>\n",
       "      <th>Forecast</th>\n",
       "    </tr>\n",
       "    <tr>\n",
       "      <th>date</th>\n",
       "      <th></th>\n",
       "      <th></th>\n",
       "    </tr>\n",
       "  </thead>\n",
       "  <tbody>\n",
       "    <tr>\n",
       "      <th>2020-05-03</th>\n",
       "      <td>NaN</td>\n",
       "      <td>0.726285</td>\n",
       "    </tr>\n",
       "    <tr>\n",
       "      <th>2020-05-04</th>\n",
       "      <td>NaN</td>\n",
       "      <td>0.728289</td>\n",
       "    </tr>\n",
       "    <tr>\n",
       "      <th>2020-05-05</th>\n",
       "      <td>NaN</td>\n",
       "      <td>0.745578</td>\n",
       "    </tr>\n",
       "    <tr>\n",
       "      <th>2020-05-06</th>\n",
       "      <td>NaN</td>\n",
       "      <td>0.768283</td>\n",
       "    </tr>\n",
       "    <tr>\n",
       "      <th>2020-05-07</th>\n",
       "      <td>NaN</td>\n",
       "      <td>0.811429</td>\n",
       "    </tr>\n",
       "    <tr>\n",
       "      <th>...</th>\n",
       "      <td>...</td>\n",
       "      <td>...</td>\n",
       "    </tr>\n",
       "    <tr>\n",
       "      <th>2020-11-05</th>\n",
       "      <td>NaN</td>\n",
       "      <td>1.557593</td>\n",
       "    </tr>\n",
       "    <tr>\n",
       "      <th>2020-11-06</th>\n",
       "      <td>NaN</td>\n",
       "      <td>1.490820</td>\n",
       "    </tr>\n",
       "    <tr>\n",
       "      <th>2020-11-07</th>\n",
       "      <td>NaN</td>\n",
       "      <td>1.578322</td>\n",
       "    </tr>\n",
       "    <tr>\n",
       "      <th>2020-11-08</th>\n",
       "      <td>NaN</td>\n",
       "      <td>1.425026</td>\n",
       "    </tr>\n",
       "    <tr>\n",
       "      <th>2020-11-09</th>\n",
       "      <td>NaN</td>\n",
       "      <td>1.309464</td>\n",
       "    </tr>\n",
       "  </tbody>\n",
       "</table>\n",
       "<p>180 rows × 2 columns</p>\n",
       "</div>"
      ],
      "text/plain": [
       "            CO  Forecast\n",
       "date                    \n",
       "2020-05-03 NaN  0.726285\n",
       "2020-05-04 NaN  0.728289\n",
       "2020-05-05 NaN  0.745578\n",
       "2020-05-06 NaN  0.768283\n",
       "2020-05-07 NaN  0.811429\n",
       "...         ..       ...\n",
       "2020-11-05 NaN  1.557593\n",
       "2020-11-06 NaN  1.490820\n",
       "2020-11-07 NaN  1.578322\n",
       "2020-11-08 NaN  1.425026\n",
       "2020-11-09 NaN  1.309464\n",
       "\n",
       "[180 rows x 2 columns]"
      ]
     },
     "execution_count": 136,
     "metadata": {},
     "output_type": "execute_result"
    }
   ],
   "source": [
    "OP.tail(180)"
   ]
  },
  {
   "cell_type": "code",
   "execution_count": 137,
   "metadata": {},
   "outputs": [
    {
     "data": {
      "text/plain": [
       "(array([736695., 736815., 736938., 737060., 737180., 737303., 737425.,\n",
       "        737546., 737669., 737791.]),\n",
       " <a list of 10 Text major ticklabel objects>)"
      ]
     },
     "execution_count": 137,
     "metadata": {},
     "output_type": "execute_result"
    },
    {
     "data": {
      "image/png": "[encoded data removed]",
      "text/plain": [
       "<Figure size 432x288 with 1 Axes>"
      ]
     },
     "metadata": {
      "needs_background": "light"
     },
     "output_type": "display_data"
    }
   ],
   "source": [
    "import matplotlib.pyplot as plt\n",
    "%matplotlib inline\n",
    "OP.tail(1000).plot()\n",
    "plt.xticks(rotation=90)"
   ]
  },
  {
   "cell_type": "code",
   "execution_count": null,
   "metadata": {},
   "outputs": [],
   "source": []
  },
  {
   "cell_type": "code",
   "execution_count": null,
   "metadata": {},
   "outputs": [],
   "source": []
  },
  {
   "cell_type": "code",
   "execution_count": null,
   "metadata": {},
   "outputs": [],
   "source": []
  }
 ],
 "metadata": {
  "kernelspec": {
   "display_name": "Python 3",
   "language": "python",
   "name": "python3"
  },
  "language_info": {
   "codemirror_mode": {
    "name": "ipython",
    "version": 3
   },
   "file_extension": ".py",
   "mimetype": "text/x-python",
   "name": "python",
   "nbconvert_exporter": "python",
   "pygments_lexer": "ipython3",
   "version": "3.8.3"
  }
 },
 "nbformat": 4,
 "nbformat_minor": 4
}
